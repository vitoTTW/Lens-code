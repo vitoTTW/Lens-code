{
  "nbformat": 4,
  "nbformat_minor": 0,
  "metadata": {
    "colab": {
      "provenance": [],
      "gpuType": "T4",
      "include_colab_link": true
    },
    "kernelspec": {
      "name": "python3",
      "display_name": "Python 3"
    },
    "language_info": {
      "name": "python"
    },
    "accelerator": "GPU"
  },
  "cells": [
    {
      "cell_type": "markdown",
      "metadata": {
        "id": "view-in-github",
        "colab_type": "text"
      },
      "source": [
        "<a href=\"https://colab.research.google.com/github/vitoTTW/Lens-code/blob/main/auto_lens_design.ipynb\" target=\"_parent\"><img src=\"https://colab.research.google.com/assets/colab-badge.svg\" alt=\"Open In Colab\"/></a>"
      ]
    },
    {
      "cell_type": "code",
      "execution_count": null,
      "metadata": {
        "id": "5eHxj-CPbCav"
      },
      "outputs": [],
      "source": [
        "!git clone 'https://github.com/vitoTTW/Lens-code.git'\n",
        "!pip install transformers\n",
        "import sys, os\n",
        "sys.path.insert(0, os.path.abspath('./AutoLens'))"
      ]
    },
    {
      "cell_type": "code",
      "source": [
        "\"\"\" Aotumated lens design with curriculum learning, using RMS errors as loss function.\n",
        "\"\"\"\n",
        "import os\n",
        "import string\n",
        "import argparse\n",
        "import logging\n",
        "import yaml\n",
        "from datetime import datetime\n",
        "import torch\n",
        "import deeplens\n",
        "from deeplens.utils import *\n",
        "from deeplens.optics import create_lens\n",
        "\n",
        "def config():\n",
        "    \"\"\" Config file for training.\n",
        "    \"\"\"\n",
        "    # Config file\n",
        "    with open('./AutoLens/configs/auto_lens_design.yml') as f:\n",
        "        args = yaml.load(f, Loader=yaml.FullLoader)\n",
        "\n",
        "    # Result dir\n",
        "    characters = string.ascii_letters + string.digits\n",
        "    random_string = ''.join(random.choice(characters) for i in range(4))\n",
        "    current_time = datetime.now().strftime(\"%m%d-%H%M%S\")\n",
        "    exp_name = current_time + '-CurriculumLensDesign-' + random_string\n",
        "    result_dir = f'./results/{exp_name}'\n",
        "    os.makedirs(result_dir, exist_ok=True)\n",
        "    args['result_dir'] = result_dir\n",
        "\n",
        "    set_seed(args['seed'])\n",
        "\n",
        "    # Log\n",
        "    set_logger(result_dir)\n",
        "    logging.info(f'EXP: {args[\"EXP_NAME\"]}')\n",
        "\n",
        "    # Device\n",
        "    num_gpus = torch.cuda.device_count()\n",
        "    args['num_gpus'] = num_gpus\n",
        "    device = torch.device(f\"cuda\" if torch.cuda.is_available() else \"cpu\")\n",
        "    args['device'] = device\n",
        "    logging.info(f'Using {num_gpus} GPUs')\n",
        "\n",
        "    return args\n",
        "\n",
        "\n",
        "def change_lens(lens, diag, fnum):\n",
        "    \"\"\" Change lens for each curriculum step.\n",
        "    \"\"\"\n",
        "    # sensor\n",
        "    lens.r_last = diag / 2\n",
        "    lens.hfov = np.arctan(lens.r_last / lens.foclen)\n",
        "\n",
        "    # aperture\n",
        "    lens.fnum = fnum\n",
        "    aper_r = lens.foclen / fnum / 2\n",
        "    lens.surfaces[lens.aper_idx].r = aper_r\n",
        "\n",
        "    return lens\n",
        "\n",
        "\n",
        "def curriculum_learning(lens, args):\n",
        "    \"\"\" Curriculum learning for lens design.\n",
        "    \"\"\"\n",
        "    lrs = [float(lr) for lr in args['lrs']]\n",
        "\n",
        "    curriculum_steps = args['curriculum_steps']\n",
        "    fnum_target = args['FNUM'] * 0.95\n",
        "    fnum_start = args['FNUM_START']\n",
        "    diag_target = args['DIAG'] * 1.05\n",
        "    diag_start = args['DIAG_START']\n",
        "\n",
        "    for step in range(args['curriculum_steps']+1):\n",
        "\n",
        "        # ==> Design target for this step\n",
        "        args['step'] = step\n",
        "        diag1 = diag_start + (diag_target - diag_start) * np.sin(step / curriculum_steps * np.pi/2)\n",
        "        fnum1 = fnum_start + (fnum_target - fnum_start) * np.sin(step / curriculum_steps * np.pi/2)\n",
        "        lens = change_lens(lens, diag1, fnum1)\n",
        "\n",
        "        lens.analysis(save_name=f'{result_dir}/step{step}_starting_point', zmx_format=True)\n",
        "        lens.write_lensfile(f'{result_dir}/step{step}_starting_point.txt', write_zmx=True)\n",
        "        logging.info(f'==> Curriculum learning step {step}, target: FOV {round(lens.hfov * 2 * 57.3, 2)}, DIAG {round(2 * lens.r_last, 2)}mm, F/{lens.fnum}.')\n",
        "\n",
        "        # ==> Lens design using RMS errors\n",
        "        iterations = 1000\n",
        "        lens.refine(lrs=lrs, decay=args['ai_lr_decay'], iterations=iterations, test_per_iter=50, importance_sampling=False, result_dir=result_dir)\n",
        "\n",
        "    # ==> Refine lens at the last step\n",
        "    lens.refine(iterations=5000, test_per_iter=100, centroid=True, importance_sampling=True, result_dir=result_dir)\n",
        "    logging.info('==> Training finish.')\n",
        "\n",
        "    # ==> Final lens\n",
        "    lens = change_lens(lens, args['DIAG'], args['FNUM'])\n",
        "\n",
        "\n"
      ],
      "metadata": {
        "id": "E6MYQ0wzcJbp"
      },
      "execution_count": null,
      "outputs": []
    },
    {
      "cell_type": "code",
      "source": [
        "args = config()\n",
        "result_dir = args['result_dir']\n",
        "device = args['device']\n",
        "\n",
        "# =====> 1. Create a lens\n",
        "create_lens(rff=float(args['rff']), flange=float(args['flange']), d_aper=args['d_aper'], hfov=args['HFOV'], imgh=args['DIAG'], fnum=args['FNUM'], surfnum=args['element'], dir=result_dir)\n",
        "lens_name = f'./{result_dir}/starting_point_hfov{args[\"HFOV\"]}_imgh{args[\"DIAG\"]}_fnum{args[\"FNUM\"]}.txt'\n",
        "lens = deeplens.Lensgroup(filename=lens_name)\n",
        "for i in lens.find_diff_surf():\n",
        "    lens.surfaces[i].init_c()\n",
        "    lens.surfaces[i].init_ai(args['ai_degree'])\n",
        "    lens.surfaces[i].init_k()\n",
        "    lens.surfaces[i].init_d()\n",
        "\n",
        "# =====> 2. Set lens design targets\n",
        "lens.set_target_fov_fnum(hfov=args['HFOV'], fnum=args['FNUM'], imgh=args['DIAG'])\n",
        "logging.info(f'==> Design target: FOV {round(args[\"HFOV\"]*2*57.3, 2)}, DIAG {args[\"DIAG\"]}mm, F/{args[\"FNUM\"]}, FOCLEN {round(args[\"DIAG\"]/2/np.tan(args[\"HFOV\"]), 2)}mm.')\n",
        "lens.analysis(save_name=f'{result_dir}/lens_starting_point')\n",
        "\n",
        "# =====> 3. Lens design with RMS errors\n",
        "curriculum_learning(lens, args)\n",
        "\n",
        "# =====> 4. Analyze final result\n",
        "lens.prune()\n",
        "lens.post_computation()\n",
        "\n",
        "logging.info(f'Actual: FOV {lens.hfov}, IMGH {lens.r_last}, F/{lens.fnum}.')\n",
        "lens.write_lensfile(f'{result_dir}/final_lens.txt', write_zmx=True)\n",
        "lens.analysis(save_name=f'{result_dir}/final_lens', zmx_format=True)"
      ],
      "metadata": {
        "id": "IeGRaneDcJem",
        "outputId": "0cc45a7d-931a-4685-ae54-37d064ae805f",
        "colab": {
          "base_uri": "https://localhost:8080/"
        }
      },
      "execution_count": null,
      "outputs": [
        {
          "metadata": {
            "tags": null
          },
          "name": "stderr",
          "output_type": "stream",
          "text": [
            "INFO:root:EXP: 6P, 80deg, F/2.0, 7.66mm sensor, lens design\n",
            "2024-04-17 13:06:38:INFO:EXP: 6P, 80deg, F/2.0, 7.66mm sensor, lens design\n",
            "INFO:root:Using 1 GPUs\n",
            "2024-04-17 13:06:38:INFO:Using 1 GPUs\n",
            "INFO:root:==> Design target: FOV 80.22, DIAG 7.66mm, F/2.0, FOCLEN 4.55mm.\n",
            "2024-04-17 13:06:41:INFO:==> Design target: FOV 80.22, DIAG 7.66mm, F/2.0, FOCLEN 4.55mm.\n",
            "DEBUG:matplotlib.font_manager:findfont: Matching sans\\-serif:style=normal:variant=normal:weight=normal:stretch=normal:size=10.0.\n",
            "DEBUG:matplotlib.font_manager:findfont: score(FontEntry(fname='/usr/local/lib/python3.10/dist-packages/matplotlib/mpl-data/fonts/ttf/DejaVuSans.ttf', name='DejaVu Sans', style='normal', variant='normal', weight=400, stretch='normal', size='scalable')) = 0.05\n",
            "DEBUG:matplotlib.font_manager:findfont: score(FontEntry(fname='/usr/local/lib/python3.10/dist-packages/matplotlib/mpl-data/fonts/ttf/DejaVuSans-Bold.ttf', name='DejaVu Sans', style='normal', variant='normal', weight=700, stretch='normal', size='scalable')) = 0.33499999999999996\n",
            "DEBUG:matplotlib.font_manager:findfont: score(FontEntry(fname='/usr/local/lib/python3.10/dist-packages/matplotlib/mpl-data/fonts/ttf/cmex10.ttf', name='cmex10', style='normal', variant='normal', weight=400, stretch='normal', size='scalable')) = 10.05\n",
            "DEBUG:matplotlib.font_manager:findfont: score(FontEntry(fname='/usr/local/lib/python3.10/dist-packages/matplotlib/mpl-data/fonts/ttf/DejaVuSansMono-BoldOblique.ttf', name='DejaVu Sans Mono', style='oblique', variant='normal', weight=700, stretch='normal', size='scalable')) = 11.335\n",
            "DEBUG:matplotlib.font_manager:findfont: score(FontEntry(fname='/usr/local/lib/python3.10/dist-packages/matplotlib/mpl-data/fonts/ttf/DejaVuSansMono-Oblique.ttf', name='DejaVu Sans Mono', style='oblique', variant='normal', weight=400, stretch='normal', size='scalable')) = 11.05\n",
            "DEBUG:matplotlib.font_manager:findfont: score(FontEntry(fname='/usr/local/lib/python3.10/dist-packages/matplotlib/mpl-data/fonts/ttf/STIXSizFourSymBol.ttf', name='STIXSizeFourSym', style='normal', variant='normal', weight=700, stretch='normal', size='scalable')) = 10.335\n",
            "DEBUG:matplotlib.font_manager:findfont: score(FontEntry(fname='/usr/local/lib/python3.10/dist-packages/matplotlib/mpl-data/fonts/ttf/STIXSizTwoSymReg.ttf', name='STIXSizeTwoSym', style='normal', variant='normal', weight=400, stretch='normal', size='scalable')) = 10.05\n",
            "DEBUG:matplotlib.font_manager:findfont: score(FontEntry(fname='/usr/local/lib/python3.10/dist-packages/matplotlib/mpl-data/fonts/ttf/cmr10.ttf', name='cmr10', style='normal', variant='normal', weight=400, stretch='normal', size='scalable')) = 10.05\n",
            "DEBUG:matplotlib.font_manager:findfont: score(FontEntry(fname='/usr/local/lib/python3.10/dist-packages/matplotlib/mpl-data/fonts/ttf/DejaVuSans-BoldOblique.ttf', name='DejaVu Sans', style='oblique', variant='normal', weight=700, stretch='normal', size='scalable')) = 1.335\n",
            "DEBUG:matplotlib.font_manager:findfont: score(FontEntry(fname='/usr/local/lib/python3.10/dist-packages/matplotlib/mpl-data/fonts/ttf/STIXGeneralBolIta.ttf', name='STIXGeneral', style='italic', variant='normal', weight=700, stretch='normal', size='scalable')) = 11.335\n",
            "DEBUG:matplotlib.font_manager:findfont: score(FontEntry(fname='/usr/local/lib/python3.10/dist-packages/matplotlib/mpl-data/fonts/ttf/STIXGeneralItalic.ttf', name='STIXGeneral', style='italic', variant='normal', weight=400, stretch='normal', size='scalable')) = 11.05\n",
            "DEBUG:matplotlib.font_manager:findfont: score(FontEntry(fname='/usr/local/lib/python3.10/dist-packages/matplotlib/mpl-data/fonts/ttf/DejaVuSerif-BoldItalic.ttf', name='DejaVu Serif', style='italic', variant='normal', weight=700, stretch='normal', size='scalable')) = 11.335\n",
            "DEBUG:matplotlib.font_manager:findfont: score(FontEntry(fname='/usr/local/lib/python3.10/dist-packages/matplotlib/mpl-data/fonts/ttf/DejaVuSerifDisplay.ttf', name='DejaVu Serif Display', style='normal', variant='normal', weight=400, stretch='normal', size='scalable')) = 10.05\n",
            "DEBUG:matplotlib.font_manager:findfont: score(FontEntry(fname='/usr/local/lib/python3.10/dist-packages/matplotlib/mpl-data/fonts/ttf/cmb10.ttf', name='cmb10', style='normal', variant='normal', weight=400, stretch='normal', size='scalable')) = 10.05\n",
            "DEBUG:matplotlib.font_manager:findfont: score(FontEntry(fname='/usr/local/lib/python3.10/dist-packages/matplotlib/mpl-data/fonts/ttf/cmtt10.ttf', name='cmtt10', style='normal', variant='normal', weight=400, stretch='normal', size='scalable')) = 10.05\n",
            "DEBUG:matplotlib.font_manager:findfont: score(FontEntry(fname='/usr/local/lib/python3.10/dist-packages/matplotlib/mpl-data/fonts/ttf/cmsy10.ttf', name='cmsy10', style='normal', variant='normal', weight=400, stretch='normal', size='scalable')) = 10.05\n",
            "DEBUG:matplotlib.font_manager:findfont: score(FontEntry(fname='/usr/local/lib/python3.10/dist-packages/matplotlib/mpl-data/fonts/ttf/STIXSizFourSymReg.ttf', name='STIXSizeFourSym', style='normal', variant='normal', weight=400, stretch='normal', size='scalable')) = 10.05\n",
            "DEBUG:matplotlib.font_manager:findfont: score(FontEntry(fname='/usr/local/lib/python3.10/dist-packages/matplotlib/mpl-data/fonts/ttf/STIXSizThreeSymReg.ttf', name='STIXSizeThreeSym', style='normal', variant='normal', weight=400, stretch='normal', size='scalable')) = 10.05\n",
            "DEBUG:matplotlib.font_manager:findfont: score(FontEntry(fname='/usr/local/lib/python3.10/dist-packages/matplotlib/mpl-data/fonts/ttf/DejaVuSansMono.ttf', name='DejaVu Sans Mono', style='normal', variant='normal', weight=400, stretch='normal', size='scalable')) = 10.05\n",
            "DEBUG:matplotlib.font_manager:findfont: score(FontEntry(fname='/usr/local/lib/python3.10/dist-packages/matplotlib/mpl-data/fonts/ttf/STIXNonUniBol.ttf', name='STIXNonUnicode', style='normal', variant='normal', weight=700, stretch='normal', size='scalable')) = 10.335\n",
            "DEBUG:matplotlib.font_manager:findfont: score(FontEntry(fname='/usr/local/lib/python3.10/dist-packages/matplotlib/mpl-data/fonts/ttf/DejaVuSans-Oblique.ttf', name='DejaVu Sans', style='oblique', variant='normal', weight=400, stretch='normal', size='scalable')) = 1.05\n",
            "DEBUG:matplotlib.font_manager:findfont: score(FontEntry(fname='/usr/local/lib/python3.10/dist-packages/matplotlib/mpl-data/fonts/ttf/cmss10.ttf', name='cmss10', style='normal', variant='normal', weight=400, stretch='normal', size='scalable')) = 10.05\n",
            "DEBUG:matplotlib.font_manager:findfont: score(FontEntry(fname='/usr/local/lib/python3.10/dist-packages/matplotlib/mpl-data/fonts/ttf/STIXNonUniBolIta.ttf', name='STIXNonUnicode', style='italic', variant='normal', weight=700, stretch='normal', size='scalable')) = 11.335\n",
            "DEBUG:matplotlib.font_manager:findfont: score(FontEntry(fname='/usr/local/lib/python3.10/dist-packages/matplotlib/mpl-data/fonts/ttf/cmmi10.ttf', name='cmmi10', style='normal', variant='normal', weight=400, stretch='normal', size='scalable')) = 10.05\n",
            "DEBUG:matplotlib.font_manager:findfont: score(FontEntry(fname='/usr/local/lib/python3.10/dist-packages/matplotlib/mpl-data/fonts/ttf/STIXSizTwoSymBol.ttf', name='STIXSizeTwoSym', style='normal', variant='normal', weight=700, stretch='normal', size='scalable')) = 10.335\n",
            "DEBUG:matplotlib.font_manager:findfont: score(FontEntry(fname='/usr/local/lib/python3.10/dist-packages/matplotlib/mpl-data/fonts/ttf/STIXSizOneSymBol.ttf', name='STIXSizeOneSym', style='normal', variant='normal', weight=700, stretch='normal', size='scalable')) = 10.335\n",
            "DEBUG:matplotlib.font_manager:findfont: score(FontEntry(fname='/usr/local/lib/python3.10/dist-packages/matplotlib/mpl-data/fonts/ttf/STIXGeneral.ttf', name='STIXGeneral', style='normal', variant='normal', weight=400, stretch='normal', size='scalable')) = 10.05\n",
            "DEBUG:matplotlib.font_manager:findfont: score(FontEntry(fname='/usr/local/lib/python3.10/dist-packages/matplotlib/mpl-data/fonts/ttf/STIXSizOneSymReg.ttf', name='STIXSizeOneSym', style='normal', variant='normal', weight=400, stretch='normal', size='scalable')) = 10.05\n",
            "DEBUG:matplotlib.font_manager:findfont: score(FontEntry(fname='/usr/local/lib/python3.10/dist-packages/matplotlib/mpl-data/fonts/ttf/STIXNonUni.ttf', name='STIXNonUnicode', style='normal', variant='normal', weight=400, stretch='normal', size='scalable')) = 10.05\n",
            "DEBUG:matplotlib.font_manager:findfont: score(FontEntry(fname='/usr/local/lib/python3.10/dist-packages/matplotlib/mpl-data/fonts/ttf/STIXNonUniIta.ttf', name='STIXNonUnicode', style='italic', variant='normal', weight=400, stretch='normal', size='scalable')) = 11.05\n",
            "DEBUG:matplotlib.font_manager:findfont: score(FontEntry(fname='/usr/local/lib/python3.10/dist-packages/matplotlib/mpl-data/fonts/ttf/STIXGeneralBol.ttf', name='STIXGeneral', style='normal', variant='normal', weight=700, stretch='normal', size='scalable')) = 10.335\n",
            "DEBUG:matplotlib.font_manager:findfont: score(FontEntry(fname='/usr/local/lib/python3.10/dist-packages/matplotlib/mpl-data/fonts/ttf/DejaVuSerif.ttf', name='DejaVu Serif', style='normal', variant='normal', weight=400, stretch='normal', size='scalable')) = 10.05\n",
            "DEBUG:matplotlib.font_manager:findfont: score(FontEntry(fname='/usr/local/lib/python3.10/dist-packages/matplotlib/mpl-data/fonts/ttf/DejaVuSerif-Bold.ttf', name='DejaVu Serif', style='normal', variant='normal', weight=700, stretch='normal', size='scalable')) = 10.335\n",
            "DEBUG:matplotlib.font_manager:findfont: score(FontEntry(fname='/usr/local/lib/python3.10/dist-packages/matplotlib/mpl-data/fonts/ttf/DejaVuSansMono-Bold.ttf', name='DejaVu Sans Mono', style='normal', variant='normal', weight=700, stretch='normal', size='scalable')) = 10.335\n",
            "DEBUG:matplotlib.font_manager:findfont: score(FontEntry(fname='/usr/local/lib/python3.10/dist-packages/matplotlib/mpl-data/fonts/ttf/STIXSizThreeSymBol.ttf', name='STIXSizeThreeSym', style='normal', variant='normal', weight=700, stretch='normal', size='scalable')) = 10.335\n",
            "DEBUG:matplotlib.font_manager:findfont: score(FontEntry(fname='/usr/local/lib/python3.10/dist-packages/matplotlib/mpl-data/fonts/ttf/STIXSizFiveSymReg.ttf', name='STIXSizeFiveSym', style='normal', variant='normal', weight=400, stretch='normal', size='scalable')) = 10.05\n",
            "DEBUG:matplotlib.font_manager:findfont: score(FontEntry(fname='/usr/local/lib/python3.10/dist-packages/matplotlib/mpl-data/fonts/ttf/DejaVuSansDisplay.ttf', name='DejaVu Sans Display', style='normal', variant='normal', weight=400, stretch='normal', size='scalable')) = 10.05\n",
            "DEBUG:matplotlib.font_manager:findfont: score(FontEntry(fname='/usr/local/lib/python3.10/dist-packages/matplotlib/mpl-data/fonts/ttf/DejaVuSerif-Italic.ttf', name='DejaVu Serif', style='italic', variant='normal', weight=400, stretch='normal', size='scalable')) = 11.05\n",
            "DEBUG:matplotlib.font_manager:findfont: score(FontEntry(fname='/usr/share/fonts/truetype/liberation/LiberationMono-BoldItalic.ttf', name='Liberation Mono', style='italic', variant='normal', weight=700, stretch='normal', size='scalable')) = 11.335\n",
            "DEBUG:matplotlib.font_manager:findfont: score(FontEntry(fname='/usr/share/fonts/truetype/liberation/LiberationSansNarrow-BoldItalic.ttf', name='Liberation Sans Narrow', style='italic', variant='normal', weight=700, stretch='condensed', size='scalable')) = 11.535\n",
            "DEBUG:matplotlib.font_manager:findfont: score(FontEntry(fname='/usr/share/fonts/truetype/liberation/LiberationSans-BoldItalic.ttf', name='Liberation Sans', style='italic', variant='normal', weight=700, stretch='normal', size='scalable')) = 11.335\n",
            "DEBUG:matplotlib.font_manager:findfont: score(FontEntry(fname='/usr/share/fonts/truetype/liberation/LiberationSansNarrow-Regular.ttf', name='Liberation Sans Narrow', style='normal', variant='normal', weight=400, stretch='condensed', size='scalable')) = 10.25\n",
            "DEBUG:matplotlib.font_manager:findfont: score(FontEntry(fname='/usr/share/fonts/truetype/liberation/LiberationSansNarrow-Italic.ttf', name='Liberation Sans Narrow', style='italic', variant='normal', weight=400, stretch='condensed', size='scalable')) = 11.25\n",
            "DEBUG:matplotlib.font_manager:findfont: score(FontEntry(fname='/usr/share/fonts/truetype/liberation/LiberationMono-Regular.ttf', name='Liberation Mono', style='normal', variant='normal', weight=400, stretch='normal', size='scalable')) = 10.05\n",
            "DEBUG:matplotlib.font_manager:findfont: score(FontEntry(fname='/usr/share/fonts/truetype/liberation/LiberationMono-Italic.ttf', name='Liberation Mono', style='italic', variant='normal', weight=400, stretch='normal', size='scalable')) = 11.05\n",
            "DEBUG:matplotlib.font_manager:findfont: score(FontEntry(fname='/usr/share/fonts/truetype/liberation/LiberationSerif-Italic.ttf', name='Liberation Serif', style='italic', variant='normal', weight=400, stretch='normal', size='scalable')) = 11.05\n",
            "DEBUG:matplotlib.font_manager:findfont: score(FontEntry(fname='/usr/share/fonts/truetype/liberation/LiberationSans-Italic.ttf', name='Liberation Sans', style='italic', variant='normal', weight=400, stretch='normal', size='scalable')) = 11.05\n",
            "DEBUG:matplotlib.font_manager:findfont: score(FontEntry(fname='/usr/share/fonts/truetype/liberation/LiberationSerif-BoldItalic.ttf', name='Liberation Serif', style='italic', variant='normal', weight=700, stretch='normal', size='scalable')) = 11.335\n",
            "DEBUG:matplotlib.font_manager:findfont: score(FontEntry(fname='/usr/share/fonts/truetype/liberation/LiberationSans-Bold.ttf', name='Liberation Sans', style='normal', variant='normal', weight=700, stretch='normal', size='scalable')) = 10.335\n",
            "DEBUG:matplotlib.font_manager:findfont: score(FontEntry(fname='/usr/share/fonts/truetype/liberation/LiberationSerif-Bold.ttf', name='Liberation Serif', style='normal', variant='normal', weight=700, stretch='normal', size='scalable')) = 10.335\n",
            "DEBUG:matplotlib.font_manager:findfont: score(FontEntry(fname='/usr/share/fonts/truetype/humor-sans/Humor-Sans.ttf', name='Humor Sans', style='normal', variant='normal', weight=400, stretch='normal', size='scalable')) = 10.05\n",
            "DEBUG:matplotlib.font_manager:findfont: score(FontEntry(fname='/usr/share/fonts/truetype/liberation/LiberationSerif-Regular.ttf', name='Liberation Serif', style='normal', variant='normal', weight=400, stretch='normal', size='scalable')) = 10.05\n",
            "DEBUG:matplotlib.font_manager:findfont: score(FontEntry(fname='/usr/share/fonts/truetype/liberation/LiberationSans-Regular.ttf', name='Liberation Sans', style='normal', variant='normal', weight=400, stretch='normal', size='scalable')) = 10.05\n",
            "DEBUG:matplotlib.font_manager:findfont: score(FontEntry(fname='/usr/share/fonts/truetype/liberation/LiberationSansNarrow-Bold.ttf', name='Liberation Sans Narrow', style='normal', variant='normal', weight=700, stretch='condensed', size='scalable')) = 10.535\n",
            "DEBUG:matplotlib.font_manager:findfont: score(FontEntry(fname='/usr/share/fonts/truetype/liberation/LiberationMono-Bold.ttf', name='Liberation Mono', style='normal', variant='normal', weight=700, stretch='normal', size='scalable')) = 10.335\n",
            "DEBUG:matplotlib.font_manager:findfont: Matching sans\\-serif:style=normal:variant=normal:weight=normal:stretch=normal:size=10.0 to DejaVu Sans ('/usr/local/lib/python3.10/dist-packages/matplotlib/mpl-data/fonts/ttf/DejaVuSans.ttf') with score of 0.050000.\n",
            "DEBUG:matplotlib.font_manager:findfont: Matching sans\\-serif:style=normal:variant=normal:weight=normal:stretch=normal:size=12.0.\n",
            "DEBUG:matplotlib.font_manager:findfont: score(FontEntry(fname='/usr/local/lib/python3.10/dist-packages/matplotlib/mpl-data/fonts/ttf/DejaVuSans.ttf', name='DejaVu Sans', style='normal', variant='normal', weight=400, stretch='normal', size='scalable')) = 0.05\n",
            "DEBUG:matplotlib.font_manager:findfont: score(FontEntry(fname='/usr/local/lib/python3.10/dist-packages/matplotlib/mpl-data/fonts/ttf/DejaVuSans-Bold.ttf', name='DejaVu Sans', style='normal', variant='normal', weight=700, stretch='normal', size='scalable')) = 0.33499999999999996\n",
            "DEBUG:matplotlib.font_manager:findfont: score(FontEntry(fname='/usr/local/lib/python3.10/dist-packages/matplotlib/mpl-data/fonts/ttf/cmex10.ttf', name='cmex10', style='normal', variant='normal', weight=400, stretch='normal', size='scalable')) = 10.05\n",
            "DEBUG:matplotlib.font_manager:findfont: score(FontEntry(fname='/usr/local/lib/python3.10/dist-packages/matplotlib/mpl-data/fonts/ttf/DejaVuSansMono-BoldOblique.ttf', name='DejaVu Sans Mono', style='oblique', variant='normal', weight=700, stretch='normal', size='scalable')) = 11.335\n",
            "DEBUG:matplotlib.font_manager:findfont: score(FontEntry(fname='/usr/local/lib/python3.10/dist-packages/matplotlib/mpl-data/fonts/ttf/DejaVuSansMono-Oblique.ttf', name='DejaVu Sans Mono', style='oblique', variant='normal', weight=400, stretch='normal', size='scalable')) = 11.05\n",
            "DEBUG:matplotlib.font_manager:findfont: score(FontEntry(fname='/usr/local/lib/python3.10/dist-packages/matplotlib/mpl-data/fonts/ttf/STIXSizFourSymBol.ttf', name='STIXSizeFourSym', style='normal', variant='normal', weight=700, stretch='normal', size='scalable')) = 10.335\n",
            "DEBUG:matplotlib.font_manager:findfont: score(FontEntry(fname='/usr/local/lib/python3.10/dist-packages/matplotlib/mpl-data/fonts/ttf/STIXSizTwoSymReg.ttf', name='STIXSizeTwoSym', style='normal', variant='normal', weight=400, stretch='normal', size='scalable')) = 10.05\n",
            "DEBUG:matplotlib.font_manager:findfont: score(FontEntry(fname='/usr/local/lib/python3.10/dist-packages/matplotlib/mpl-data/fonts/ttf/cmr10.ttf', name='cmr10', style='normal', variant='normal', weight=400, stretch='normal', size='scalable')) = 10.05\n",
            "DEBUG:matplotlib.font_manager:findfont: score(FontEntry(fname='/usr/local/lib/python3.10/dist-packages/matplotlib/mpl-data/fonts/ttf/DejaVuSans-BoldOblique.ttf', name='DejaVu Sans', style='oblique', variant='normal', weight=700, stretch='normal', size='scalable')) = 1.335\n",
            "DEBUG:matplotlib.font_manager:findfont: score(FontEntry(fname='/usr/local/lib/python3.10/dist-packages/matplotlib/mpl-data/fonts/ttf/STIXGeneralBolIta.ttf', name='STIXGeneral', style='italic', variant='normal', weight=700, stretch='normal', size='scalable')) = 11.335\n",
            "DEBUG:matplotlib.font_manager:findfont: score(FontEntry(fname='/usr/local/lib/python3.10/dist-packages/matplotlib/mpl-data/fonts/ttf/STIXGeneralItalic.ttf', name='STIXGeneral', style='italic', variant='normal', weight=400, stretch='normal', size='scalable')) = 11.05\n",
            "DEBUG:matplotlib.font_manager:findfont: score(FontEntry(fname='/usr/local/lib/python3.10/dist-packages/matplotlib/mpl-data/fonts/ttf/DejaVuSerif-BoldItalic.ttf', name='DejaVu Serif', style='italic', variant='normal', weight=700, stretch='normal', size='scalable')) = 11.335\n",
            "DEBUG:matplotlib.font_manager:findfont: score(FontEntry(fname='/usr/local/lib/python3.10/dist-packages/matplotlib/mpl-data/fonts/ttf/DejaVuSerifDisplay.ttf', name='DejaVu Serif Display', style='normal', variant='normal', weight=400, stretch='normal', size='scalable')) = 10.05\n",
            "DEBUG:matplotlib.font_manager:findfont: score(FontEntry(fname='/usr/local/lib/python3.10/dist-packages/matplotlib/mpl-data/fonts/ttf/cmb10.ttf', name='cmb10', style='normal', variant='normal', weight=400, stretch='normal', size='scalable')) = 10.05\n",
            "DEBUG:matplotlib.font_manager:findfont: score(FontEntry(fname='/usr/local/lib/python3.10/dist-packages/matplotlib/mpl-data/fonts/ttf/cmtt10.ttf', name='cmtt10', style='normal', variant='normal', weight=400, stretch='normal', size='scalable')) = 10.05\n",
            "DEBUG:matplotlib.font_manager:findfont: score(FontEntry(fname='/usr/local/lib/python3.10/dist-packages/matplotlib/mpl-data/fonts/ttf/cmsy10.ttf', name='cmsy10', style='normal', variant='normal', weight=400, stretch='normal', size='scalable')) = 10.05\n",
            "DEBUG:matplotlib.font_manager:findfont: score(FontEntry(fname='/usr/local/lib/python3.10/dist-packages/matplotlib/mpl-data/fonts/ttf/STIXSizFourSymReg.ttf', name='STIXSizeFourSym', style='normal', variant='normal', weight=400, stretch='normal', size='scalable')) = 10.05\n",
            "DEBUG:matplotlib.font_manager:findfont: score(FontEntry(fname='/usr/local/lib/python3.10/dist-packages/matplotlib/mpl-data/fonts/ttf/STIXSizThreeSymReg.ttf', name='STIXSizeThreeSym', style='normal', variant='normal', weight=400, stretch='normal', size='scalable')) = 10.05\n",
            "DEBUG:matplotlib.font_manager:findfont: score(FontEntry(fname='/usr/local/lib/python3.10/dist-packages/matplotlib/mpl-data/fonts/ttf/DejaVuSansMono.ttf', name='DejaVu Sans Mono', style='normal', variant='normal', weight=400, stretch='normal', size='scalable')) = 10.05\n",
            "DEBUG:matplotlib.font_manager:findfont: score(FontEntry(fname='/usr/local/lib/python3.10/dist-packages/matplotlib/mpl-data/fonts/ttf/STIXNonUniBol.ttf', name='STIXNonUnicode', style='normal', variant='normal', weight=700, stretch='normal', size='scalable')) = 10.335\n",
            "DEBUG:matplotlib.font_manager:findfont: score(FontEntry(fname='/usr/local/lib/python3.10/dist-packages/matplotlib/mpl-data/fonts/ttf/DejaVuSans-Oblique.ttf', name='DejaVu Sans', style='oblique', variant='normal', weight=400, stretch='normal', size='scalable')) = 1.05\n",
            "DEBUG:matplotlib.font_manager:findfont: score(FontEntry(fname='/usr/local/lib/python3.10/dist-packages/matplotlib/mpl-data/fonts/ttf/cmss10.ttf', name='cmss10', style='normal', variant='normal', weight=400, stretch='normal', size='scalable')) = 10.05\n",
            "DEBUG:matplotlib.font_manager:findfont: score(FontEntry(fname='/usr/local/lib/python3.10/dist-packages/matplotlib/mpl-data/fonts/ttf/STIXNonUniBolIta.ttf', name='STIXNonUnicode', style='italic', variant='normal', weight=700, stretch='normal', size='scalable')) = 11.335\n",
            "DEBUG:matplotlib.font_manager:findfont: score(FontEntry(fname='/usr/local/lib/python3.10/dist-packages/matplotlib/mpl-data/fonts/ttf/cmmi10.ttf', name='cmmi10', style='normal', variant='normal', weight=400, stretch='normal', size='scalable')) = 10.05\n",
            "DEBUG:matplotlib.font_manager:findfont: score(FontEntry(fname='/usr/local/lib/python3.10/dist-packages/matplotlib/mpl-data/fonts/ttf/STIXSizTwoSymBol.ttf', name='STIXSizeTwoSym', style='normal', variant='normal', weight=700, stretch='normal', size='scalable')) = 10.335\n",
            "DEBUG:matplotlib.font_manager:findfont: score(FontEntry(fname='/usr/local/lib/python3.10/dist-packages/matplotlib/mpl-data/fonts/ttf/STIXSizOneSymBol.ttf', name='STIXSizeOneSym', style='normal', variant='normal', weight=700, stretch='normal', size='scalable')) = 10.335\n",
            "DEBUG:matplotlib.font_manager:findfont: score(FontEntry(fname='/usr/local/lib/python3.10/dist-packages/matplotlib/mpl-data/fonts/ttf/STIXGeneral.ttf', name='STIXGeneral', style='normal', variant='normal', weight=400, stretch='normal', size='scalable')) = 10.05\n",
            "DEBUG:matplotlib.font_manager:findfont: score(FontEntry(fname='/usr/local/lib/python3.10/dist-packages/matplotlib/mpl-data/fonts/ttf/STIXSizOneSymReg.ttf', name='STIXSizeOneSym', style='normal', variant='normal', weight=400, stretch='normal', size='scalable')) = 10.05\n",
            "DEBUG:matplotlib.font_manager:findfont: score(FontEntry(fname='/usr/local/lib/python3.10/dist-packages/matplotlib/mpl-data/fonts/ttf/STIXNonUni.ttf', name='STIXNonUnicode', style='normal', variant='normal', weight=400, stretch='normal', size='scalable')) = 10.05\n",
            "DEBUG:matplotlib.font_manager:findfont: score(FontEntry(fname='/usr/local/lib/python3.10/dist-packages/matplotlib/mpl-data/fonts/ttf/STIXNonUniIta.ttf', name='STIXNonUnicode', style='italic', variant='normal', weight=400, stretch='normal', size='scalable')) = 11.05\n",
            "DEBUG:matplotlib.font_manager:findfont: score(FontEntry(fname='/usr/local/lib/python3.10/dist-packages/matplotlib/mpl-data/fonts/ttf/STIXGeneralBol.ttf', name='STIXGeneral', style='normal', variant='normal', weight=700, stretch='normal', size='scalable')) = 10.335\n",
            "DEBUG:matplotlib.font_manager:findfont: score(FontEntry(fname='/usr/local/lib/python3.10/dist-packages/matplotlib/mpl-data/fonts/ttf/DejaVuSerif.ttf', name='DejaVu Serif', style='normal', variant='normal', weight=400, stretch='normal', size='scalable')) = 10.05\n",
            "DEBUG:matplotlib.font_manager:findfont: score(FontEntry(fname='/usr/local/lib/python3.10/dist-packages/matplotlib/mpl-data/fonts/ttf/DejaVuSerif-Bold.ttf', name='DejaVu Serif', style='normal', variant='normal', weight=700, stretch='normal', size='scalable')) = 10.335\n",
            "DEBUG:matplotlib.font_manager:findfont: score(FontEntry(fname='/usr/local/lib/python3.10/dist-packages/matplotlib/mpl-data/fonts/ttf/DejaVuSansMono-Bold.ttf', name='DejaVu Sans Mono', style='normal', variant='normal', weight=700, stretch='normal', size='scalable')) = 10.335\n",
            "DEBUG:matplotlib.font_manager:findfont: score(FontEntry(fname='/usr/local/lib/python3.10/dist-packages/matplotlib/mpl-data/fonts/ttf/STIXSizThreeSymBol.ttf', name='STIXSizeThreeSym', style='normal', variant='normal', weight=700, stretch='normal', size='scalable')) = 10.335\n",
            "DEBUG:matplotlib.font_manager:findfont: score(FontEntry(fname='/usr/local/lib/python3.10/dist-packages/matplotlib/mpl-data/fonts/ttf/STIXSizFiveSymReg.ttf', name='STIXSizeFiveSym', style='normal', variant='normal', weight=400, stretch='normal', size='scalable')) = 10.05\n",
            "DEBUG:matplotlib.font_manager:findfont: score(FontEntry(fname='/usr/local/lib/python3.10/dist-packages/matplotlib/mpl-data/fonts/ttf/DejaVuSansDisplay.ttf', name='DejaVu Sans Display', style='normal', variant='normal', weight=400, stretch='normal', size='scalable')) = 10.05\n",
            "DEBUG:matplotlib.font_manager:findfont: score(FontEntry(fname='/usr/local/lib/python3.10/dist-packages/matplotlib/mpl-data/fonts/ttf/DejaVuSerif-Italic.ttf', name='DejaVu Serif', style='italic', variant='normal', weight=400, stretch='normal', size='scalable')) = 11.05\n",
            "DEBUG:matplotlib.font_manager:findfont: score(FontEntry(fname='/usr/share/fonts/truetype/liberation/LiberationMono-BoldItalic.ttf', name='Liberation Mono', style='italic', variant='normal', weight=700, stretch='normal', size='scalable')) = 11.335\n",
            "DEBUG:matplotlib.font_manager:findfont: score(FontEntry(fname='/usr/share/fonts/truetype/liberation/LiberationSansNarrow-BoldItalic.ttf', name='Liberation Sans Narrow', style='italic', variant='normal', weight=700, stretch='condensed', size='scalable')) = 11.535\n",
            "DEBUG:matplotlib.font_manager:findfont: score(FontEntry(fname='/usr/share/fonts/truetype/liberation/LiberationSans-BoldItalic.ttf', name='Liberation Sans', style='italic', variant='normal', weight=700, stretch='normal', size='scalable')) = 11.335\n",
            "DEBUG:matplotlib.font_manager:findfont: score(FontEntry(fname='/usr/share/fonts/truetype/liberation/LiberationSansNarrow-Regular.ttf', name='Liberation Sans Narrow', style='normal', variant='normal', weight=400, stretch='condensed', size='scalable')) = 10.25\n",
            "DEBUG:matplotlib.font_manager:findfont: score(FontEntry(fname='/usr/share/fonts/truetype/liberation/LiberationSansNarrow-Italic.ttf', name='Liberation Sans Narrow', style='italic', variant='normal', weight=400, stretch='condensed', size='scalable')) = 11.25\n",
            "DEBUG:matplotlib.font_manager:findfont: score(FontEntry(fname='/usr/share/fonts/truetype/liberation/LiberationMono-Regular.ttf', name='Liberation Mono', style='normal', variant='normal', weight=400, stretch='normal', size='scalable')) = 10.05\n",
            "DEBUG:matplotlib.font_manager:findfont: score(FontEntry(fname='/usr/share/fonts/truetype/liberation/LiberationMono-Italic.ttf', name='Liberation Mono', style='italic', variant='normal', weight=400, stretch='normal', size='scalable')) = 11.05\n",
            "DEBUG:matplotlib.font_manager:findfont: score(FontEntry(fname='/usr/share/fonts/truetype/liberation/LiberationSerif-Italic.ttf', name='Liberation Serif', style='italic', variant='normal', weight=400, stretch='normal', size='scalable')) = 11.05\n",
            "DEBUG:matplotlib.font_manager:findfont: score(FontEntry(fname='/usr/share/fonts/truetype/liberation/LiberationSans-Italic.ttf', name='Liberation Sans', style='italic', variant='normal', weight=400, stretch='normal', size='scalable')) = 11.05\n",
            "DEBUG:matplotlib.font_manager:findfont: score(FontEntry(fname='/usr/share/fonts/truetype/liberation/LiberationSerif-BoldItalic.ttf', name='Liberation Serif', style='italic', variant='normal', weight=700, stretch='normal', size='scalable')) = 11.335\n",
            "DEBUG:matplotlib.font_manager:findfont: score(FontEntry(fname='/usr/share/fonts/truetype/liberation/LiberationSans-Bold.ttf', name='Liberation Sans', style='normal', variant='normal', weight=700, stretch='normal', size='scalable')) = 10.335\n",
            "DEBUG:matplotlib.font_manager:findfont: score(FontEntry(fname='/usr/share/fonts/truetype/liberation/LiberationSerif-Bold.ttf', name='Liberation Serif', style='normal', variant='normal', weight=700, stretch='normal', size='scalable')) = 10.335\n",
            "DEBUG:matplotlib.font_manager:findfont: score(FontEntry(fname='/usr/share/fonts/truetype/humor-sans/Humor-Sans.ttf', name='Humor Sans', style='normal', variant='normal', weight=400, stretch='normal', size='scalable')) = 10.05\n",
            "DEBUG:matplotlib.font_manager:findfont: score(FontEntry(fname='/usr/share/fonts/truetype/liberation/LiberationSerif-Regular.ttf', name='Liberation Serif', style='normal', variant='normal', weight=400, stretch='normal', size='scalable')) = 10.05\n",
            "DEBUG:matplotlib.font_manager:findfont: score(FontEntry(fname='/usr/share/fonts/truetype/liberation/LiberationSans-Regular.ttf', name='Liberation Sans', style='normal', variant='normal', weight=400, stretch='normal', size='scalable')) = 10.05\n",
            "DEBUG:matplotlib.font_manager:findfont: score(FontEntry(fname='/usr/share/fonts/truetype/liberation/LiberationSansNarrow-Bold.ttf', name='Liberation Sans Narrow', style='normal', variant='normal', weight=700, stretch='condensed', size='scalable')) = 10.535\n",
            "DEBUG:matplotlib.font_manager:findfont: score(FontEntry(fname='/usr/share/fonts/truetype/liberation/LiberationMono-Bold.ttf', name='Liberation Mono', style='normal', variant='normal', weight=700, stretch='normal', size='scalable')) = 10.335\n",
            "DEBUG:matplotlib.font_manager:findfont: Matching sans\\-serif:style=normal:variant=normal:weight=normal:stretch=normal:size=12.0 to DejaVu Sans ('/usr/local/lib/python3.10/dist-packages/matplotlib/mpl-data/fonts/ttf/DejaVuSans.ttf') with score of 0.050000.\n"
          ]
        },
        {
          "metadata": {
            "tags": null
          },
          "name": "stdout",
          "output_type": "stream",
          "text": [
            "Avg RMS spot size (radius): 805.273um, On-axis RMS radius: 805.903um, Off-axis RMS radius: 801.55um\n"
          ]
        },
        {
          "metadata": {
            "tags": null
          },
          "name": "stderr",
          "output_type": "stream",
          "text": [
            "INFO:root:==> Curriculum learning step 0, target: FOV 47.49, DIAG 4.0mm, F/2.8.\n",
            "2024-04-17 13:06:51:INFO:==> Curriculum learning step 0, target: FOV 47.49, DIAG 4.0mm, F/2.8.\n",
            "INFO:root:lr:[0.0005, 0.0001, 0.1, 0.0001], decay:0.1, iterations:1000, spp:256, M:31.\n",
            "2024-04-17 13:06:51:INFO:lr:[0.0005, 0.0001, 0.1, 0.0001], decay:0.1, iterations:1000, spp:256, M:31.\n"
          ]
        },
        {
          "metadata": {
            "tags": null
          },
          "name": "stdout",
          "output_type": "stream",
          "text": [
            "Avg RMS spot size (radius): 575.068um, On-axis RMS radius: 575.548um, Off-axis RMS radius: 575.921um\n"
          ]
        },
        {
          "metadata": {
            "tags": null
          },
          "name": "stderr",
          "output_type": "stream",
          "text": [
            "\rProgress:   0%|          | 0/1001 [00:00<?, ?it/s, rms=0]"
          ]
        },
        {
          "metadata": {
            "tags": null
          },
          "name": "stdout",
          "output_type": "stream",
          "text": [
            "Avg RMS spot size (radius): 575.066um, On-axis RMS radius: 575.526um, Off-axis RMS radius: 576.036um\n"
          ]
        },
        {
          "metadata": {
            "tags": null
          },
          "name": "stderr",
          "output_type": "stream",
          "text": [
            "Progress:   5%|▍         | 50/1001 [01:56<31:26,  1.98s/it, rms=0.0131]"
          ]
        },
        {
          "metadata": {
            "tags": null
          },
          "name": "stdout",
          "output_type": "stream",
          "text": [
            "Avg RMS spot size (radius): 205.373um, On-axis RMS radius: 257.676um, Off-axis RMS radius: nanum\n"
          ]
        },
        {
          "metadata": {
            "tags": null
          },
          "name": "stderr",
          "output_type": "stream",
          "text": [
            "Progress:  10%|▉         | 100/1001 [03:49<32:05,  2.14s/it, rms=0.00106]"
          ]
        },
        {
          "metadata": {
            "tags": null
          },
          "name": "stdout",
          "output_type": "stream",
          "text": [
            "Avg RMS spot size (radius): 36.837um, On-axis RMS radius: 64.23um, Off-axis RMS radius: nanum\n"
          ]
        },
        {
          "metadata": {
            "tags": null
          },
          "name": "stderr",
          "output_type": "stream",
          "text": [
            "Progress:  15%|█▍        | 150/1001 [05:43<29:53,  2.11s/it, rms=0.000762]"
          ]
        },
        {
          "metadata": {
            "tags": null
          },
          "name": "stdout",
          "output_type": "stream",
          "text": [
            "Avg RMS spot size (radius): 40.566um, On-axis RMS radius: 52.901um, Off-axis RMS radius: nanum\n"
          ]
        },
        {
          "metadata": {
            "tags": null
          },
          "name": "stderr",
          "output_type": "stream",
          "text": [
            "Progress:  20%|█▉        | 200/1001 [07:38<29:32,  2.21s/it, rms=0.000653]"
          ]
        },
        {
          "metadata": {
            "tags": null
          },
          "name": "stdout",
          "output_type": "stream",
          "text": [
            "Avg RMS spot size (radius): 33.73um, On-axis RMS radius: 49.338um, Off-axis RMS radius: nanum\n"
          ]
        },
        {
          "metadata": {
            "tags": null
          },
          "name": "stderr",
          "output_type": "stream",
          "text": [
            "Progress:  25%|██▍       | 250/1001 [09:31<26:47,  2.14s/it, rms=0.000573]"
          ]
        },
        {
          "metadata": {
            "tags": null
          },
          "name": "stdout",
          "output_type": "stream",
          "text": [
            "Avg RMS spot size (radius): 31.154um, On-axis RMS radius: 46.742um, Off-axis RMS radius: nanum\n"
          ]
        },
        {
          "metadata": {
            "tags": null
          },
          "name": "stderr",
          "output_type": "stream",
          "text": [
            "Progress:  30%|██▉       | 300/1001 [11:25<26:12,  2.24s/it, rms=0.00051]"
          ]
        },
        {
          "metadata": {
            "tags": null
          },
          "name": "stdout",
          "output_type": "stream",
          "text": [
            "Avg RMS spot size (radius): 34.52um, On-axis RMS radius: 44.391um, Off-axis RMS radius: nanum\n"
          ]
        },
        {
          "metadata": {
            "tags": null
          },
          "name": "stderr",
          "output_type": "stream",
          "text": [
            "Progress:  35%|███▍      | 350/1001 [13:14<22:54,  2.11s/it, rms=0.000457]"
          ]
        },
        {
          "metadata": {
            "tags": null
          },
          "name": "stdout",
          "output_type": "stream",
          "text": [
            "Avg RMS spot size (radius): 34.807um, On-axis RMS radius: 42.402um, Off-axis RMS radius: nanum\n"
          ]
        },
        {
          "metadata": {
            "tags": null
          },
          "name": "stderr",
          "output_type": "stream",
          "text": [
            "Progress:  40%|███▉      | 400/1001 [15:05<20:59,  2.10s/it, rms=0.000418]"
          ]
        },
        {
          "metadata": {
            "tags": null
          },
          "name": "stdout",
          "output_type": "stream",
          "text": [
            "Avg RMS spot size (radius): 28.447um, On-axis RMS radius: 40.723um, Off-axis RMS radius: nanum\n"
          ]
        },
        {
          "metadata": {
            "tags": null
          },
          "name": "stderr",
          "output_type": "stream",
          "text": [
            "Progress:  45%|████▍     | 450/1001 [16:54<19:26,  2.12s/it, rms=0.000387]"
          ]
        },
        {
          "metadata": {
            "tags": null
          },
          "name": "stdout",
          "output_type": "stream",
          "text": [
            "Avg RMS spot size (radius): 30.236um, On-axis RMS radius: 39.279um, Off-axis RMS radius: nanum\n"
          ]
        },
        {
          "metadata": {
            "tags": null
          },
          "name": "stderr",
          "output_type": "stream",
          "text": [
            "Progress:  50%|████▉     | 500/1001 [18:47<16:58,  2.03s/it, rms=0.000363]"
          ]
        },
        {
          "metadata": {
            "tags": null
          },
          "name": "stdout",
          "output_type": "stream",
          "text": [
            "Avg RMS spot size (radius): 27.553um, On-axis RMS radius: 38.063um, Off-axis RMS radius: nanum\n"
          ]
        },
        {
          "metadata": {
            "tags": null
          },
          "name": "stderr",
          "output_type": "stream",
          "text": [
            "Progress:  55%|█████▍    | 550/1001 [20:40<17:26,  2.32s/it, rms=0.000347]"
          ]
        },
        {
          "metadata": {
            "tags": null
          },
          "name": "stdout",
          "output_type": "stream",
          "text": [
            "Avg RMS spot size (radius): 27.258um, On-axis RMS radius: 37.186um, Off-axis RMS radius: nanum\n"
          ]
        },
        {
          "metadata": {
            "tags": null
          },
          "name": "stderr",
          "output_type": "stream",
          "text": [
            "Progress:  60%|█████▉    | 600/1001 [22:34<14:51,  2.22s/it, rms=0.000333]"
          ]
        },
        {
          "metadata": {
            "tags": null
          },
          "name": "stdout",
          "output_type": "stream",
          "text": [
            "Avg RMS spot size (radius): 29.182um, On-axis RMS radius: 36.408um, Off-axis RMS radius: nanum\n"
          ]
        },
        {
          "metadata": {
            "tags": null
          },
          "name": "stderr",
          "output_type": "stream",
          "text": [
            "Progress:  65%|██████▍   | 650/1001 [24:23<11:55,  2.04s/it, rms=0.000322]"
          ]
        },
        {
          "metadata": {
            "tags": null
          },
          "name": "stdout",
          "output_type": "stream",
          "text": [
            "Avg RMS spot size (radius): 31.868um, On-axis RMS radius: 35.736um, Off-axis RMS radius: nanum\n"
          ]
        },
        {
          "metadata": {
            "tags": null
          },
          "name": "stderr",
          "output_type": "stream",
          "text": [
            "Progress:  70%|██████▉   | 700/1001 [26:13<09:58,  1.99s/it, rms=0.000314]"
          ]
        },
        {
          "metadata": {
            "tags": null
          },
          "name": "stdout",
          "output_type": "stream",
          "text": [
            "Avg RMS spot size (radius): 26.701um, On-axis RMS radius: 35.264um, Off-axis RMS radius: nanum\n"
          ]
        },
        {
          "metadata": {
            "tags": null
          },
          "name": "stderr",
          "output_type": "stream",
          "text": [
            "Progress:  75%|███████▍  | 750/1001 [28:03<08:13,  1.97s/it, rms=0.000313]"
          ]
        },
        {
          "metadata": {
            "tags": null
          },
          "name": "stdout",
          "output_type": "stream",
          "text": [
            "Avg RMS spot size (radius): 26.575um, On-axis RMS radius: 34.272um, Off-axis RMS radius: nanum\n"
          ]
        },
        {
          "metadata": {
            "tags": null
          },
          "name": "stderr",
          "output_type": "stream",
          "text": [
            "Progress:  80%|███████▉  | 800/1001 [29:52<06:46,  2.02s/it, rms=0.000308]"
          ]
        },
        {
          "metadata": {
            "tags": null
          },
          "name": "stdout",
          "output_type": "stream",
          "text": [
            "Avg RMS spot size (radius): 26.485um, On-axis RMS radius: 33.843um, Off-axis RMS radius: nanum\n"
          ]
        },
        {
          "metadata": {
            "tags": null
          },
          "name": "stderr",
          "output_type": "stream",
          "text": [
            "Progress:  85%|████████▍ | 850/1001 [31:42<05:38,  2.24s/it, rms=0.000306]"
          ]
        },
        {
          "metadata": {
            "tags": null
          },
          "name": "stdout",
          "output_type": "stream",
          "text": [
            "Avg RMS spot size (radius): 26.417um, On-axis RMS radius: 33.702um, Off-axis RMS radius: nanum\n"
          ]
        },
        {
          "metadata": {
            "tags": null
          },
          "name": "stderr",
          "output_type": "stream",
          "text": [
            "Progress:  90%|████████▉ | 900/1001 [33:32<03:37,  2.16s/it, rms=0.000305]"
          ]
        },
        {
          "metadata": {
            "tags": null
          },
          "name": "stdout",
          "output_type": "stream",
          "text": [
            "Avg RMS spot size (radius): 26.387um, On-axis RMS radius: 33.644um, Off-axis RMS radius: nanum\n"
          ]
        },
        {
          "metadata": {
            "tags": null
          },
          "name": "stderr",
          "output_type": "stream",
          "text": [
            "Progress:  95%|█████████▍| 950/1001 [35:21<01:50,  2.16s/it, rms=0.000305]"
          ]
        },
        {
          "metadata": {
            "tags": null
          },
          "name": "stdout",
          "output_type": "stream",
          "text": [
            "Avg RMS spot size (radius): 26.385um, On-axis RMS radius: 33.552um, Off-axis RMS radius: nanum\n"
          ]
        },
        {
          "metadata": {
            "tags": null
          },
          "name": "stderr",
          "output_type": "stream",
          "text": [
            "Progress: 100%|█████████▉| 1000/1001 [37:12<00:02,  2.03s/it, rms=0.000305]"
          ]
        },
        {
          "metadata": {
            "tags": null
          },
          "name": "stdout",
          "output_type": "stream",
          "text": [
            "Avg RMS spot size (radius): 26.38um, On-axis RMS radius: 33.573um, Off-axis RMS radius: nanum\n"
          ]
        },
        {
          "metadata": {
            "tags": null
          },
          "name": "stderr",
          "output_type": "stream",
          "text": [
            "Progress: 100%|██████████| 1001/1001 [37:20<00:00,  2.24s/it, rms=0.000305]\n",
            "INFO:root:==> Curriculum learning step 1, target: FOV 59.99, DIAG 5.25mm, F/2.521884705062547.\n",
            "2024-04-17 13:44:15:INFO:==> Curriculum learning step 1, target: FOV 59.99, DIAG 5.25mm, F/2.521884705062547.\n",
            "INFO:root:lr:[0.0005, 0.0001, 0.1, 0.0001], decay:0.1, iterations:1000, spp:256, M:31.\n",
            "2024-04-17 13:44:15:INFO:lr:[0.0005, 0.0001, 0.1, 0.0001], decay:0.1, iterations:1000, spp:256, M:31.\n"
          ]
        },
        {
          "metadata": {
            "tags": null
          },
          "name": "stdout",
          "output_type": "stream",
          "text": [
            "Avg RMS spot size (radius): 32.157um, On-axis RMS radius: 33.365um, Off-axis RMS radius: nanum\n"
          ]
        },
        {
          "metadata": {
            "tags": null
          },
          "name": "stderr",
          "output_type": "stream",
          "text": [
            "\rProgress:   0%|          | 0/1001 [00:00<?, ?it/s, rms=0]"
          ]
        },
        {
          "metadata": {
            "tags": null
          },
          "name": "stdout",
          "output_type": "stream",
          "text": [
            "Avg RMS spot size (radius): 32.152um, On-axis RMS radius: 33.323um, Off-axis RMS radius: nanum\n"
          ]
        },
        {
          "metadata": {
            "tags": null
          },
          "name": "stderr",
          "output_type": "stream",
          "text": [
            "Progress:   5%|▍         | 50/1001 [01:48<31:55,  2.01s/it, rms=0.00024]"
          ]
        },
        {
          "metadata": {
            "tags": null
          },
          "name": "stdout",
          "output_type": "stream",
          "text": [
            "Avg RMS spot size (radius): 30.289um, On-axis RMS radius: 27.686um, Off-axis RMS radius: nanum\n"
          ]
        },
        {
          "metadata": {
            "tags": null
          },
          "name": "stderr",
          "output_type": "stream",
          "text": [
            "Progress:  10%|▉         | 100/1001 [03:38<30:27,  2.03s/it, rms=0.000219]"
          ]
        },
        {
          "metadata": {
            "tags": null
          },
          "name": "stdout",
          "output_type": "stream",
          "text": [
            "Avg RMS spot size (radius): 27.398um, On-axis RMS radius: 27.881um, Off-axis RMS radius: nanum\n"
          ]
        },
        {
          "metadata": {
            "tags": null
          },
          "name": "stderr",
          "output_type": "stream",
          "text": [
            "Progress:  15%|█▍        | 150/1001 [05:30<29:09,  2.06s/it, rms=0.000197]"
          ]
        },
        {
          "metadata": {
            "tags": null
          },
          "name": "stdout",
          "output_type": "stream",
          "text": [
            "Avg RMS spot size (radius): 25.581um, On-axis RMS radius: 23.261um, Off-axis RMS radius: nanum\n"
          ]
        },
        {
          "metadata": {
            "tags": null
          },
          "name": "stderr",
          "output_type": "stream",
          "text": [
            "Progress:  20%|█▉        | 200/1001 [07:21<28:52,  2.16s/it, rms=0.000187]"
          ]
        },
        {
          "metadata": {
            "tags": null
          },
          "name": "stdout",
          "output_type": "stream",
          "text": [
            "Avg RMS spot size (radius): 24.453um, On-axis RMS radius: 18.248um, Off-axis RMS radius: nanum\n"
          ]
        },
        {
          "metadata": {
            "tags": null
          },
          "name": "stderr",
          "output_type": "stream",
          "text": [
            "Progress:  25%|██▍       | 250/1001 [09:10<27:29,  2.20s/it, rms=0.000184]"
          ]
        },
        {
          "metadata": {
            "tags": null
          },
          "name": "stdout",
          "output_type": "stream",
          "text": [
            "Avg RMS spot size (radius): 23.896um, On-axis RMS radius: 13.822um, Off-axis RMS radius: nanum\n"
          ]
        },
        {
          "metadata": {
            "tags": null
          },
          "name": "stderr",
          "output_type": "stream",
          "text": [
            "Progress:  30%|██▉       | 300/1001 [11:04<23:50,  2.04s/it, rms=0.000174]"
          ]
        },
        {
          "metadata": {
            "tags": null
          },
          "name": "stdout",
          "output_type": "stream",
          "text": [
            "Avg RMS spot size (radius): 23.191um, On-axis RMS radius: 11.898um, Off-axis RMS radius: nanum\n"
          ]
        },
        {
          "metadata": {
            "tags": null
          },
          "name": "stderr",
          "output_type": "stream",
          "text": [
            "Progress:  35%|███▍      | 350/1001 [12:56<22:05,  2.04s/it, rms=0.000163]"
          ]
        },
        {
          "metadata": {
            "tags": null
          },
          "name": "stdout",
          "output_type": "stream",
          "text": [
            "Avg RMS spot size (radius): 22.502um, On-axis RMS radius: 11.324um, Off-axis RMS radius: nanum\n"
          ]
        },
        {
          "metadata": {
            "tags": null
          },
          "name": "stderr",
          "output_type": "stream",
          "text": [
            "Progress:  40%|███▉      | 400/1001 [14:49<21:23,  2.14s/it, rms=0.000156]"
          ]
        },
        {
          "metadata": {
            "tags": null
          },
          "name": "stdout",
          "output_type": "stream",
          "text": [
            "Avg RMS spot size (radius): 21.926um, On-axis RMS radius: 11.172um, Off-axis RMS radius: nanum\n"
          ]
        },
        {
          "metadata": {
            "tags": null
          },
          "name": "stderr",
          "output_type": "stream",
          "text": [
            "Progress:  45%|████▍     | 450/1001 [16:45<19:22,  2.11s/it, rms=0.000149]"
          ]
        },
        {
          "metadata": {
            "tags": null
          },
          "name": "stdout",
          "output_type": "stream",
          "text": [
            "Avg RMS spot size (radius): 22.432um, On-axis RMS radius: 11.071um, Off-axis RMS radius: nanum\n"
          ]
        },
        {
          "metadata": {
            "tags": null
          },
          "name": "stderr",
          "output_type": "stream",
          "text": [
            "Progress:  50%|████▉     | 500/1001 [18:38<18:45,  2.25s/it, rms=0.000143]"
          ]
        },
        {
          "metadata": {
            "tags": null
          },
          "name": "stdout",
          "output_type": "stream",
          "text": [
            "Avg RMS spot size (radius): 23.023um, On-axis RMS radius: 10.967um, Off-axis RMS radius: nanum\n"
          ]
        },
        {
          "metadata": {
            "tags": null
          },
          "name": "stderr",
          "output_type": "stream",
          "text": [
            "Progress:  55%|█████▍    | 550/1001 [20:29<16:16,  2.17s/it, rms=0.000139]"
          ]
        },
        {
          "metadata": {
            "tags": null
          },
          "name": "stdout",
          "output_type": "stream",
          "text": [
            "Avg RMS spot size (radius): 20.835um, On-axis RMS radius: 10.879um, Off-axis RMS radius: nanum\n"
          ]
        },
        {
          "metadata": {
            "tags": null
          },
          "name": "stderr",
          "output_type": "stream",
          "text": [
            "Progress:  60%|█████▉    | 600/1001 [22:23<14:09,  2.12s/it, rms=0.000135]"
          ]
        },
        {
          "metadata": {
            "tags": null
          },
          "name": "stdout",
          "output_type": "stream",
          "text": [
            "Avg RMS spot size (radius): 20.57um, On-axis RMS radius: 10.804um, Off-axis RMS radius: nanum\n"
          ]
        },
        {
          "metadata": {
            "tags": null
          },
          "name": "stderr",
          "output_type": "stream",
          "text": [
            "Progress:  65%|██████▍   | 650/1001 [24:16<12:56,  2.21s/it, rms=0.000133]"
          ]
        },
        {
          "metadata": {
            "tags": null
          },
          "name": "stdout",
          "output_type": "stream",
          "text": [
            "Avg RMS spot size (radius): 20.376um, On-axis RMS radius: 10.739um, Off-axis RMS radius: nanum\n"
          ]
        },
        {
          "metadata": {
            "tags": null
          },
          "name": "stderr",
          "output_type": "stream",
          "text": [
            "Progress:  70%|██████▉   | 700/1001 [26:10<10:39,  2.12s/it, rms=0.00013]"
          ]
        },
        {
          "metadata": {
            "tags": null
          },
          "name": "stdout",
          "output_type": "stream",
          "text": [
            "Avg RMS spot size (radius): 20.621um, On-axis RMS radius: 10.671um, Off-axis RMS radius: nanum\n"
          ]
        },
        {
          "metadata": {
            "tags": null
          },
          "name": "stderr",
          "output_type": "stream",
          "text": [
            "Progress:  75%|███████▍  | 750/1001 [28:04<09:15,  2.21s/it, rms=0.000128]"
          ]
        },
        {
          "metadata": {
            "tags": null
          },
          "name": "stdout",
          "output_type": "stream",
          "text": [
            "Avg RMS spot size (radius): 21.303um, On-axis RMS radius: 10.658um, Off-axis RMS radius: nanum\n"
          ]
        },
        {
          "metadata": {
            "tags": null
          },
          "name": "stderr",
          "output_type": "stream",
          "text": [
            "Progress:  80%|███████▉  | 800/1001 [29:59<07:31,  2.24s/it, rms=0.000126]"
          ]
        },
        {
          "metadata": {
            "tags": null
          },
          "name": "stdout",
          "output_type": "stream",
          "text": [
            "Avg RMS spot size (radius): 21.208um, On-axis RMS radius: 10.601um, Off-axis RMS radius: nanum\n"
          ]
        },
        {
          "metadata": {
            "tags": null
          },
          "name": "stderr",
          "output_type": "stream",
          "text": [
            "Progress:  85%|████████▍ | 850/1001 [31:55<05:41,  2.26s/it, rms=0.000125]"
          ]
        },
        {
          "metadata": {
            "tags": null
          },
          "name": "stdout",
          "output_type": "stream",
          "text": [
            "Avg RMS spot size (radius): 19.917um, On-axis RMS radius: 10.557um, Off-axis RMS radius: nanum\n"
          ]
        },
        {
          "metadata": {
            "tags": null
          },
          "name": "stderr",
          "output_type": "stream",
          "text": [
            "Progress:  90%|████████▉ | 900/1001 [33:50<03:32,  2.11s/it, rms=0.000125]"
          ]
        },
        {
          "metadata": {
            "tags": null
          },
          "name": "stdout",
          "output_type": "stream",
          "text": [
            "Avg RMS spot size (radius): 19.886um, On-axis RMS radius: 10.597um, Off-axis RMS radius: nanum\n"
          ]
        },
        {
          "metadata": {
            "tags": null
          },
          "name": "stderr",
          "output_type": "stream",
          "text": [
            "Progress:  95%|█████████▍| 950/1001 [35:48<01:55,  2.26s/it, rms=0.000125]"
          ]
        },
        {
          "metadata": {
            "tags": null
          },
          "name": "stdout",
          "output_type": "stream",
          "text": [
            "Avg RMS spot size (radius): 19.872um, On-axis RMS radius: 10.598um, Off-axis RMS radius: nanum\n"
          ]
        },
        {
          "metadata": {
            "tags": null
          },
          "name": "stderr",
          "output_type": "stream",
          "text": [
            "Progress: 100%|█████████▉| 1000/1001 [37:43<00:02,  2.13s/it, rms=0.000124]"
          ]
        },
        {
          "metadata": {
            "tags": null
          },
          "name": "stdout",
          "output_type": "stream",
          "text": [
            "Avg RMS spot size (radius): 20.701um, On-axis RMS radius: 10.573um, Off-axis RMS radius: nanum\n"
          ]
        },
        {
          "metadata": {
            "tags": null
          },
          "name": "stderr",
          "output_type": "stream",
          "text": [
            "Progress: 100%|██████████| 1001/1001 [37:52<00:00,  2.27s/it, rms=0.000125]\n",
            "INFO:root:==> Curriculum learning step 2, target: FOV 70.08, DIAG 6.38mm, F/2.270993272936774.\n",
            "2024-04-17 14:22:12:INFO:==> Curriculum learning step 2, target: FOV 70.08, DIAG 6.38mm, F/2.270993272936774.\n",
            "INFO:root:lr:[0.0005, 0.0001, 0.1, 0.0001], decay:0.1, iterations:1000, spp:256, M:31.\n",
            "2024-04-17 14:22:12:INFO:lr:[0.0005, 0.0001, 0.1, 0.0001], decay:0.1, iterations:1000, spp:256, M:31.\n"
          ]
        },
        {
          "metadata": {
            "tags": null
          },
          "name": "stdout",
          "output_type": "stream",
          "text": [
            "Avg RMS spot size (radius): 22.066um, On-axis RMS radius: 12.447um, Off-axis RMS radius: nanum\n"
          ]
        },
        {
          "metadata": {
            "tags": null
          },
          "name": "stderr",
          "output_type": "stream",
          "text": [
            "\rProgress:   0%|          | 0/1001 [00:00<?, ?it/s, rms=0]"
          ]
        },
        {
          "metadata": {
            "tags": null
          },
          "name": "stdout",
          "output_type": "stream",
          "text": [
            "Avg RMS spot size (radius): 22.068um, On-axis RMS radius: 12.496um, Off-axis RMS radius: nanum\n"
          ]
        },
        {
          "metadata": {
            "tags": null
          },
          "name": "stderr",
          "output_type": "stream",
          "text": [
            "Progress:   5%|▍         | 50/1001 [01:55<33:08,  2.09s/it, rms=0.000144]"
          ]
        },
        {
          "metadata": {
            "tags": null
          },
          "name": "stdout",
          "output_type": "stream",
          "text": [
            "Avg RMS spot size (radius): 24.512um, On-axis RMS radius: 12.513um, Off-axis RMS radius: 42.402um\n"
          ]
        },
        {
          "metadata": {
            "tags": null
          },
          "name": "stderr",
          "output_type": "stream",
          "text": [
            "Progress:  10%|▉         | 100/1001 [03:49<32:34,  2.17s/it, rms=0.000317]"
          ]
        },
        {
          "metadata": {
            "tags": null
          },
          "name": "stdout",
          "output_type": "stream",
          "text": [
            "Avg RMS spot size (radius): 25.647um, On-axis RMS radius: 8.746um, Off-axis RMS radius: 37.721um\n"
          ]
        },
        {
          "metadata": {
            "tags": null
          },
          "name": "stderr",
          "output_type": "stream",
          "text": [
            "Progress:  15%|█▍        | 150/1001 [05:43<30:02,  2.12s/it, rms=0.00019]"
          ]
        },
        {
          "metadata": {
            "tags": null
          },
          "name": "stdout",
          "output_type": "stream",
          "text": [
            "Avg RMS spot size (radius): 24.378um, On-axis RMS radius: 11.722um, Off-axis RMS radius: 36.191um\n"
          ]
        },
        {
          "metadata": {
            "tags": null
          },
          "name": "stderr",
          "output_type": "stream",
          "text": [
            "Progress:  20%|█▉        | 200/1001 [07:37<27:39,  2.07s/it, rms=0.000181]"
          ]
        },
        {
          "metadata": {
            "tags": null
          },
          "name": "stdout",
          "output_type": "stream",
          "text": [
            "Avg RMS spot size (radius): 23.938um, On-axis RMS radius: 11.987um, Off-axis RMS radius: 34.458um\n"
          ]
        },
        {
          "metadata": {
            "tags": null
          },
          "name": "stderr",
          "output_type": "stream",
          "text": [
            "Progress:  25%|██▍       | 250/1001 [09:31<27:35,  2.20s/it, rms=0.000174]"
          ]
        },
        {
          "metadata": {
            "tags": null
          },
          "name": "stdout",
          "output_type": "stream",
          "text": [
            "Avg RMS spot size (radius): 23.612um, On-axis RMS radius: 11.809um, Off-axis RMS radius: 41.03um\n"
          ]
        },
        {
          "metadata": {
            "tags": null
          },
          "name": "stderr",
          "output_type": "stream",
          "text": [
            "Progress:  30%|██▉       | 300/1001 [11:26<23:45,  2.03s/it, rms=0.000168]"
          ]
        },
        {
          "metadata": {
            "tags": null
          },
          "name": "stdout",
          "output_type": "stream",
          "text": [
            "Avg RMS spot size (radius): 23.259um, On-axis RMS radius: 11.86um, Off-axis RMS radius: 33.194um\n"
          ]
        },
        {
          "metadata": {
            "tags": null
          },
          "name": "stderr",
          "output_type": "stream",
          "text": [
            "Progress:  35%|███▍      | 350/1001 [13:24<23:53,  2.20s/it, rms=0.000163]"
          ]
        },
        {
          "metadata": {
            "tags": null
          },
          "name": "stdout",
          "output_type": "stream",
          "text": [
            "Avg RMS spot size (radius): 22.949um, On-axis RMS radius: 11.672um, Off-axis RMS radius: 39.772um\n"
          ]
        },
        {
          "metadata": {
            "tags": null
          },
          "name": "stderr",
          "output_type": "stream",
          "text": [
            "Progress:  40%|███▉      | 400/1001 [15:25<22:34,  2.25s/it, rms=0.000157]"
          ]
        },
        {
          "metadata": {
            "tags": null
          },
          "name": "stdout",
          "output_type": "stream",
          "text": [
            "Avg RMS spot size (radius): 22.633um, On-axis RMS radius: 11.735um, Off-axis RMS radius: 38.496um\n"
          ]
        },
        {
          "metadata": {
            "tags": null
          },
          "name": "stderr",
          "output_type": "stream",
          "text": [
            "Progress:  45%|████▍     | 450/1001 [17:25<20:58,  2.28s/it, rms=0.000154]"
          ]
        },
        {
          "metadata": {
            "tags": null
          },
          "name": "stdout",
          "output_type": "stream",
          "text": [
            "Avg RMS spot size (radius): 22.397um, On-axis RMS radius: 11.484um, Off-axis RMS radius: 40.526um\n"
          ]
        },
        {
          "metadata": {
            "tags": null
          },
          "name": "stderr",
          "output_type": "stream",
          "text": [
            "Progress:  50%|████▉     | 500/1001 [19:26<20:05,  2.41s/it, rms=0.000149]"
          ]
        },
        {
          "metadata": {
            "tags": null
          },
          "name": "stdout",
          "output_type": "stream",
          "text": [
            "Avg RMS spot size (radius): 22.038um, On-axis RMS radius: 11.544um, Off-axis RMS radius: 41.141um\n"
          ]
        },
        {
          "metadata": {
            "tags": null
          },
          "name": "stderr",
          "output_type": "stream",
          "text": [
            "Progress:  55%|█████▍    | 550/1001 [21:27<17:34,  2.34s/it, rms=0.000145]"
          ]
        },
        {
          "metadata": {
            "tags": null
          },
          "name": "stdout",
          "output_type": "stream",
          "text": [
            "Avg RMS spot size (radius): 21.801um, On-axis RMS radius: 11.102um, Off-axis RMS radius: 38.744um\n"
          ]
        },
        {
          "metadata": {
            "tags": null
          },
          "name": "stderr",
          "output_type": "stream",
          "text": [
            "Progress:  60%|█████▉    | 600/1001 [23:28<15:56,  2.39s/it, rms=0.000142]"
          ]
        },
        {
          "metadata": {
            "tags": null
          },
          "name": "stdout",
          "output_type": "stream",
          "text": [
            "Avg RMS spot size (radius): 21.588um, On-axis RMS radius: 11.21um, Off-axis RMS radius: 40.402um\n"
          ]
        },
        {
          "metadata": {
            "tags": null
          },
          "name": "stderr",
          "output_type": "stream",
          "text": [
            "Progress:  65%|██████▍   | 650/1001 [25:29<13:53,  2.37s/it, rms=0.00014]"
          ]
        },
        {
          "metadata": {
            "tags": null
          },
          "name": "stdout",
          "output_type": "stream",
          "text": [
            "Avg RMS spot size (radius): 21.429um, On-axis RMS radius: 11.064um, Off-axis RMS radius: 42.032um\n"
          ]
        },
        {
          "metadata": {
            "tags": null
          },
          "name": "stderr",
          "output_type": "stream",
          "text": [
            "Progress:  70%|██████▉   | 700/1001 [27:26<10:17,  2.05s/it, rms=0.000138]"
          ]
        },
        {
          "metadata": {
            "tags": null
          },
          "name": "stdout",
          "output_type": "stream",
          "text": [
            "Avg RMS spot size (radius): 21.196um, On-axis RMS radius: 11.149um, Off-axis RMS radius: 39.686um\n"
          ]
        },
        {
          "metadata": {
            "tags": null
          },
          "name": "stderr",
          "output_type": "stream",
          "text": [
            "Progress:  75%|███████▍  | 750/1001 [29:20<09:26,  2.26s/it, rms=0.000136]"
          ]
        },
        {
          "metadata": {
            "tags": null
          },
          "name": "stdout",
          "output_type": "stream",
          "text": [
            "Avg RMS spot size (radius): 21.104um, On-axis RMS radius: 10.994um, Off-axis RMS radius: 40.375um\n"
          ]
        },
        {
          "metadata": {
            "tags": null
          },
          "name": "stderr",
          "output_type": "stream",
          "text": [
            "Progress:  80%|███████▉  | 800/1001 [31:15<07:17,  2.18s/it, rms=0.000134]"
          ]
        },
        {
          "metadata": {
            "tags": null
          },
          "name": "stdout",
          "output_type": "stream",
          "text": [
            "Avg RMS spot size (radius): 21.044um, On-axis RMS radius: 10.906um, Off-axis RMS radius: 44.298um\n"
          ]
        },
        {
          "metadata": {
            "tags": null
          },
          "name": "stderr",
          "output_type": "stream",
          "text": [
            "Progress:  85%|████████▍ | 850/1001 [33:08<05:29,  2.18s/it, rms=0.000134]"
          ]
        },
        {
          "metadata": {
            "tags": null
          },
          "name": "stdout",
          "output_type": "stream",
          "text": [
            "Avg RMS spot size (radius): 20.954um, On-axis RMS radius: 10.933um, Off-axis RMS radius: 41.593um\n"
          ]
        },
        {
          "metadata": {
            "tags": null
          },
          "name": "stderr",
          "output_type": "stream",
          "text": [
            "Progress:  90%|████████▉ | 900/1001 [34:59<03:40,  2.19s/it, rms=0.000133]"
          ]
        },
        {
          "metadata": {
            "tags": null
          },
          "name": "stdout",
          "output_type": "stream",
          "text": [
            "Avg RMS spot size (radius): 20.922um, On-axis RMS radius: 10.892um, Off-axis RMS radius: 39.38um\n"
          ]
        },
        {
          "metadata": {
            "tags": null
          },
          "name": "stderr",
          "output_type": "stream",
          "text": [
            "Progress:  95%|█████████▍| 950/1001 [36:55<01:49,  2.15s/it, rms=0.000133]"
          ]
        },
        {
          "metadata": {
            "tags": null
          },
          "name": "stdout",
          "output_type": "stream",
          "text": [
            "Avg RMS spot size (radius): 20.915um, On-axis RMS radius: 10.923um, Off-axis RMS radius: 45.845um\n"
          ]
        },
        {
          "metadata": {
            "tags": null
          },
          "name": "stderr",
          "output_type": "stream",
          "text": [
            "Progress: 100%|█████████▉| 1000/1001 [38:50<00:02,  2.20s/it, rms=0.000133]"
          ]
        },
        {
          "metadata": {
            "tags": null
          },
          "name": "stdout",
          "output_type": "stream",
          "text": [
            "Avg RMS spot size (radius): 20.916um, On-axis RMS radius: 10.928um, Off-axis RMS radius: 43.837um\n"
          ]
        },
        {
          "metadata": {
            "tags": null
          },
          "name": "stderr",
          "output_type": "stream",
          "text": [
            "Progress: 100%|██████████| 1001/1001 [38:59<00:00,  2.34s/it, rms=0.000133]\n",
            "INFO:root:==> Curriculum learning step 3, target: FOV 77.29, DIAG 7.27mm, F/2.0718847050625473.\n",
            "2024-04-17 15:01:16:INFO:==> Curriculum learning step 3, target: FOV 77.29, DIAG 7.27mm, F/2.0718847050625473.\n",
            "INFO:root:lr:[0.0005, 0.0001, 0.1, 0.0001], decay:0.1, iterations:1000, spp:256, M:31.\n",
            "2024-04-17 15:01:16:INFO:lr:[0.0005, 0.0001, 0.1, 0.0001], decay:0.1, iterations:1000, spp:256, M:31.\n"
          ]
        },
        {
          "metadata": {
            "tags": null
          },
          "name": "stdout",
          "output_type": "stream",
          "text": [
            "Avg RMS spot size (radius): 22.922um, On-axis RMS radius: 11.741um, Off-axis RMS radius: 47.252um\n"
          ]
        },
        {
          "metadata": {
            "tags": null
          },
          "name": "stderr",
          "output_type": "stream",
          "text": [
            "\rProgress:   0%|          | 0/1001 [00:00<?, ?it/s, rms=0]"
          ]
        },
        {
          "metadata": {
            "tags": null
          },
          "name": "stdout",
          "output_type": "stream",
          "text": [
            "Avg RMS spot size (radius): 22.914um, On-axis RMS radius: 11.723um, Off-axis RMS radius: 43.502um\n"
          ]
        },
        {
          "metadata": {
            "tags": null
          },
          "name": "stderr",
          "output_type": "stream",
          "text": [
            "Progress:   5%|▍         | 50/1001 [01:54<34:41,  2.19s/it, rms=0.000162]"
          ]
        },
        {
          "metadata": {
            "tags": null
          },
          "name": "stdout",
          "output_type": "stream",
          "text": [
            "Avg RMS spot size (radius): 28.139um, On-axis RMS radius: 15.878um, Off-axis RMS radius: 219.841um\n"
          ]
        },
        {
          "metadata": {
            "tags": null
          },
          "name": "stderr",
          "output_type": "stream",
          "text": [
            "Progress:  10%|▉         | 100/1001 [03:49<32:54,  2.19s/it, rms=0.000273]"
          ]
        },
        {
          "metadata": {
            "tags": null
          },
          "name": "stdout",
          "output_type": "stream",
          "text": [
            "Avg RMS spot size (radius): 24.809um, On-axis RMS radius: 11.913um, Off-axis RMS radius: 65.191um\n"
          ]
        },
        {
          "metadata": {
            "tags": null
          },
          "name": "stderr",
          "output_type": "stream",
          "text": [
            "Progress:  15%|█▍        | 150/1001 [05:44<30:24,  2.14s/it, rms=0.000204]"
          ]
        },
        {
          "metadata": {
            "tags": null
          },
          "name": "stdout",
          "output_type": "stream",
          "text": [
            "Avg RMS spot size (radius): 24.312um, On-axis RMS radius: 11.447um, Off-axis RMS radius: 67.677um\n"
          ]
        },
        {
          "metadata": {
            "tags": null
          },
          "name": "stderr",
          "output_type": "stream",
          "text": [
            "Progress:  20%|█▉        | 200/1001 [07:37<28:56,  2.17s/it, rms=0.000194]"
          ]
        },
        {
          "metadata": {
            "tags": null
          },
          "name": "stdout",
          "output_type": "stream",
          "text": [
            "Avg RMS spot size (radius): 24.044um, On-axis RMS radius: 11.892um, Off-axis RMS radius: 65.633um\n"
          ]
        },
        {
          "metadata": {
            "tags": null
          },
          "name": "stderr",
          "output_type": "stream",
          "text": [
            "Progress:  25%|██▍       | 250/1001 [09:30<26:28,  2.12s/it, rms=0.00019]"
          ]
        },
        {
          "metadata": {
            "tags": null
          },
          "name": "stdout",
          "output_type": "stream",
          "text": [
            "Avg RMS spot size (radius): 23.887um, On-axis RMS radius: 11.976um, Off-axis RMS radius: 63.461um\n"
          ]
        },
        {
          "metadata": {
            "tags": null
          },
          "name": "stderr",
          "output_type": "stream",
          "text": [
            "Progress:  30%|██▉       | 300/1001 [11:27<26:04,  2.23s/it, rms=0.000187]"
          ]
        },
        {
          "metadata": {
            "tags": null
          },
          "name": "stdout",
          "output_type": "stream",
          "text": [
            "Avg RMS spot size (radius): 23.751um, On-axis RMS radius: 12.007um, Off-axis RMS radius: 62.348um\n"
          ]
        },
        {
          "metadata": {
            "tags": null
          },
          "name": "stderr",
          "output_type": "stream",
          "text": [
            "Progress:  35%|███▍      | 350/1001 [13:26<25:46,  2.37s/it, rms=0.000183]"
          ]
        },
        {
          "metadata": {
            "tags": null
          },
          "name": "stdout",
          "output_type": "stream",
          "text": [
            "Avg RMS spot size (radius): 23.599um, On-axis RMS radius: 12.105um, Off-axis RMS radius: 61.359um\n"
          ]
        },
        {
          "output_type": "stream",
          "name": "stderr",
          "text": [
            "Progress:  40%|███▉      | 400/1001 [15:22<21:20,  2.13s/it, rms=0.00018]"
          ]
        },
        {
          "output_type": "stream",
          "name": "stdout",
          "text": [
            "Avg RMS spot size (radius): 23.473um, On-axis RMS radius: 12.214um, Off-axis RMS radius: 61.009um\n"
          ]
        },
        {
          "output_type": "stream",
          "name": "stderr",
          "text": [
            "Progress:  45%|████▍     | 450/1001 [17:20<20:31,  2.23s/it, rms=0.000177]"
          ]
        },
        {
          "output_type": "stream",
          "name": "stdout",
          "text": [
            "Avg RMS spot size (radius): 23.349um, On-axis RMS radius: 12.231um, Off-axis RMS radius: 60.048um\n"
          ]
        },
        {
          "output_type": "stream",
          "name": "stderr",
          "text": [
            "Progress:  50%|████▉     | 500/1001 [19:16<18:32,  2.22s/it, rms=0.000176]"
          ]
        },
        {
          "output_type": "stream",
          "name": "stdout",
          "text": [
            "Avg RMS spot size (radius): 23.252um, On-axis RMS radius: 12.277um, Off-axis RMS radius: 58.806um\n"
          ]
        },
        {
          "output_type": "stream",
          "name": "stderr",
          "text": [
            "Progress:  51%|█████     | 508/1001 [19:40<19:26,  2.37s/it, rms=0.000175]"
          ]
        }
      ]
    }
  ]
}